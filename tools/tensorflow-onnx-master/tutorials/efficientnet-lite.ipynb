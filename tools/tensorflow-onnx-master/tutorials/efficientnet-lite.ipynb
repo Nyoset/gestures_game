{
 "cells": [
  {
   "cell_type": "markdown",
   "metadata": {},
   "source": [
    "# Converting efficientnet-lite from Tensorflow to ONNX"
   ]
  },
  {
   "cell_type": "markdown",
   "metadata": {},
   "source": [
    "Google recently [published a new flavor of efficientnet models](\n",
    "https://blog.tensorflow.org/2020/03/higher-accuracy-on-vision-models-with-efficientnet-lite.html) that show great performance and accuracy on all mobile CPU/GPU/EdgeTPU devices. The models are found [here](https://github.com/tensorflow/tpu/tree/master/models/official/efficientnet/lite). \n",
    "This tutorial shows how to convert them to ONNX.\n",
    "\n",
    "To start, we setup a few environment variables and download the pre-trained model."
   ]
  },
  {
   "cell_type": "code",
   "execution_count": 2,
   "metadata": {},
   "outputs": [],
   "source": [
    "import os\n",
    "\n",
    "HOME = os.getcwd()\n",
    "MODEL = \"efficientnet-lite4\"\n",
    "os.environ['PYTHONPATH'] = os.path.join(HOME, \"tpu\")\n",
    "os.environ['MODEL'] = MODEL\n",
    "os.environ['CUDA_VISIBLE_DEVICES'] = \"\""
   ]
  },
  {
   "cell_type": "code",
   "execution_count": null,
   "metadata": {},
   "outputs": [],
   "source": [
    "%cd {HOME}\n",
    "!git clone https://github.com/tensorflow/tpu\n",
    "%cd {HOME}/tpu/models/official/efficientnet"
   ]
  },
  {
   "cell_type": "code",
   "execution_count": 6,
   "metadata": {},
   "outputs": [],
   "source": [
    "!wget https://storage.googleapis.com/cloud-tpu-checkpoints/efficientnet/lite/$MODEL.tar.gz\n",
    "!tar zxf $MODEL.tar.gz\n",
    "!wget -q https://upload.wikimedia.org/wikipedia/commons/f/fe/Giant_Panda_in_Beijing_Zoo_1.JPG -O panda.jpg\n",
    "!wget -q https://storage.googleapis.com/cloud-tpu-checkpoints/efficientnet/eval_data/labels_map.txt"
   ]
  },
  {
   "cell_type": "markdown",
   "metadata": {},
   "source": [
    "Run a evaluation on tensorflow/cpu:"
   ]
  },
  {
   "cell_type": "code",
   "execution_count": 29,
   "metadata": {},
   "outputs": [
    {
     "name": "stdout",
     "output_type": "stream",
     "text": [
      "predicted class for image panda.jpg: \n",
      "  -> top_0 (85.58%): lesser panda, red panda, panda, bear cat, cat bear, Ailurus fulgens  \n",
      "  -> top_1 (0.26%): cheetah, chetah, Acinonyx jubatus  \n",
      "  -> top_2 (0.24%): brown bear, bruin, Ursus arctos  \n",
      "  -> top_3 (0.16%): African elephant, Loxodonta africana  \n",
      "  -> top_4 (0.15%): American black bear, black bear, Ursus americanus, Euarctos americanus  \n"
     ]
    }
   ],
   "source": [
    "!python eval_ckpt_main.py --model_name=$MODEL --ckpt_dir=$MODEL --example_img=panda.jpg --labels_map_file=labels_map.txt --include_background_label"
   ]
  },
  {
   "cell_type": "markdown",
   "metadata": {},
   "source": [
    "We can use the efficientnet ```export_model.py``` script to export the model as saved_model which makes exporting to ONNX very simple:"
   ]
  },
  {
   "cell_type": "code",
   "execution_count": 4,
   "metadata": {},
   "outputs": [
    {
     "name": "stdout",
     "output_type": "stream",
     "text": [
      "I0317 04:45:13.062742 140590807156480 efficientnet_lite_builder.py:100] global_params= GlobalParams(batch_norm_momentum=0.99, batch_norm_epsilon=0.001, dropout_rate=0.3, data_format='channels_last', num_classes=1000, width_coefficient=1.4, depth_coefficient=1.8, depth_divisor=8, min_depth=None, survival_prob=0.8, relu_fn=<function relu6 at 0x7fdd83fbcea0>, batch_norm=<class 'utils.BatchNormalization'>, use_se=False, local_pooling=True, condconv_num_experts=None, clip_projection_output=False, blocks_args=['r1_k3_s11_e1_i32_o16_se0.25', 'r2_k3_s22_e6_i16_o24_se0.25', 'r2_k5_s22_e6_i24_o40_se0.25', 'r3_k3_s22_e6_i40_o80_se0.25', 'r3_k5_s11_e6_i80_o112_se0.25', 'r4_k5_s22_e6_i112_o192_se0.25', 'r1_k3_s11_e6_i192_o320_se0.25'], fix_head_stem=True)\n",
      "I0317 04:45:13.116612 140590807156480 efficientnet_model.py:153] round_filter input=32 output=48\n",
      "I0317 04:45:13.116733 140590807156480 efficientnet_model.py:153] round_filter input=16 output=24\n",
      "I0317 04:45:13.119245 140590807156480 efficientnet_model.py:153] round_filter input=16 output=24\n",
      "I0317 04:45:13.119314 140590807156480 efficientnet_model.py:153] round_filter input=24 output=32\n",
      "I0317 04:45:13.128279 140590807156480 efficientnet_model.py:153] round_filter input=24 output=32\n",
      "I0317 04:45:13.128348 140590807156480 efficientnet_model.py:153] round_filter input=40 output=56\n",
      "I0317 04:45:13.137309 140590807156480 efficientnet_model.py:153] round_filter input=40 output=56\n",
      "I0317 04:45:13.137379 140590807156480 efficientnet_model.py:153] round_filter input=80 output=112\n",
      "I0317 04:45:13.150849 140590807156480 efficientnet_model.py:153] round_filter input=80 output=112\n",
      "I0317 04:45:13.150932 140590807156480 efficientnet_model.py:153] round_filter input=112 output=160\n",
      "I0317 04:45:13.164771 140590807156480 efficientnet_model.py:153] round_filter input=112 output=160\n",
      "I0317 04:45:13.164845 140590807156480 efficientnet_model.py:153] round_filter input=192 output=272\n",
      "I0317 04:45:13.182756 140590807156480 efficientnet_model.py:153] round_filter input=192 output=272\n",
      "I0317 04:45:13.182835 140590807156480 efficientnet_model.py:153] round_filter input=320 output=448\n",
      "I0317 04:45:15.719593 140590807156480 api.py:567] Built stem layers with output shape: (1, 112, 112, 32)\n",
      "I0317 04:45:17.895972 140590807156480 api.py:567] block_0 survival_prob: 1.0\n",
      "I0317 04:45:18.603083 140590807156480 api.py:567] Block input: efficientnet-lite4/model/stem/Relu6:0 shape: (1, 112, 112, 32)\n",
      "I0317 04:45:18.610922 140590807156480 api.py:567] Block input depth: 48 output depth: 24\n",
      "I0317 04:45:18.638564 140590807156480 api.py:567] DWConv: efficientnet-lite4/model/blocks_0/Relu6:0 shape: (1, 112, 112, 32)\n",
      "I0317 04:45:18.666830 140590807156480 api.py:567] Project: efficientnet-lite4/model/blocks_0/Identity:0 shape: (1, 112, 112, 24)\n",
      "I0317 04:45:18.715108 140590807156480 api.py:567] block_1 survival_prob: 0.9933333333333333\n",
      "I0317 04:45:18.723168 140590807156480 api.py:567] Block input: efficientnet-lite4/model/blocks_0/Identity:0 shape: (1, 112, 112, 24)\n",
      "I0317 04:45:18.730878 140590807156480 api.py:567] Block input depth: 24 output depth: 32\n",
      "I0317 04:45:18.760163 140590807156480 api.py:567] Expand: efficientnet-lite4/model/blocks_1/Relu6:0 shape: (1, 112, 112, 144)\n",
      "I0317 04:45:18.789498 140590807156480 api.py:567] DWConv: efficientnet-lite4/model/blocks_1/Relu6_1:0 shape: (1, 56, 56, 144)\n",
      "I0317 04:45:18.819620 140590807156480 api.py:567] Project: efficientnet-lite4/model/blocks_1/Identity:0 shape: (1, 56, 56, 32)\n",
      "I0317 04:45:18.828456 140590807156480 api.py:567] block_2 survival_prob: 0.9866666666666667\n",
      "I0317 04:45:18.836339 140590807156480 api.py:567] Block input: efficientnet-lite4/model/blocks_1/Identity:0 shape: (1, 56, 56, 32)\n",
      "I0317 04:45:18.844154 140590807156480 api.py:567] Block input depth: 32 output depth: 32\n",
      "I0317 04:45:18.874791 140590807156480 api.py:567] Expand: efficientnet-lite4/model/blocks_2/Relu6:0 shape: (1, 56, 56, 192)\n",
      "I0317 04:45:18.906245 140590807156480 api.py:567] DWConv: efficientnet-lite4/model/blocks_2/Relu6_1:0 shape: (1, 56, 56, 192)\n",
      "I0317 04:45:19.045265 140590807156480 api.py:567] Project: efficientnet-lite4/model/blocks_2/Add:0 shape: (1, 56, 56, 32)\n",
      "I0317 04:45:19.054164 140590807156480 api.py:567] block_3 survival_prob: 0.98\n",
      "I0317 04:45:19.062103 140590807156480 api.py:567] Block input: efficientnet-lite4/model/blocks_2/Add:0 shape: (1, 56, 56, 32)\n",
      "I0317 04:45:19.069805 140590807156480 api.py:567] Block input depth: 32 output depth: 32\n",
      "I0317 04:45:19.101838 140590807156480 api.py:567] Expand: efficientnet-lite4/model/blocks_3/Relu6:0 shape: (1, 56, 56, 192)\n",
      "I0317 04:45:19.134559 140590807156480 api.py:567] DWConv: efficientnet-lite4/model/blocks_3/Relu6_1:0 shape: (1, 56, 56, 192)\n",
      "I0317 04:45:19.168589 140590807156480 api.py:567] Project: efficientnet-lite4/model/blocks_3/Add:0 shape: (1, 56, 56, 32)\n",
      "I0317 04:45:19.177538 140590807156480 api.py:567] block_4 survival_prob: 0.9733333333333334\n",
      "I0317 04:45:19.185509 140590807156480 api.py:567] Block input: efficientnet-lite4/model/blocks_3/Add:0 shape: (1, 56, 56, 32)\n",
      "I0317 04:45:19.193212 140590807156480 api.py:567] Block input depth: 32 output depth: 32\n",
      "I0317 04:45:19.227258 140590807156480 api.py:567] Expand: efficientnet-lite4/model/blocks_4/Relu6:0 shape: (1, 56, 56, 192)\n",
      "I0317 04:45:19.261800 140590807156480 api.py:567] DWConv: efficientnet-lite4/model/blocks_4/Relu6_1:0 shape: (1, 56, 56, 192)\n",
      "I0317 04:45:19.296964 140590807156480 api.py:567] Project: efficientnet-lite4/model/blocks_4/Add:0 shape: (1, 56, 56, 32)\n",
      "I0317 04:45:19.306012 140590807156480 api.py:567] block_5 survival_prob: 0.9666666666666667\n",
      "I0317 04:45:19.314208 140590807156480 api.py:567] Block input: efficientnet-lite4/model/blocks_4/Add:0 shape: (1, 56, 56, 32)\n",
      "I0317 04:45:19.321954 140590807156480 api.py:567] Block input depth: 32 output depth: 56\n",
      "I0317 04:45:19.357403 140590807156480 api.py:567] Expand: efficientnet-lite4/model/blocks_5/Relu6:0 shape: (1, 56, 56, 192)\n",
      "I0317 04:45:19.393963 140590807156480 api.py:567] DWConv: efficientnet-lite4/model/blocks_5/Relu6_1:0 shape: (1, 28, 28, 192)\n",
      "I0317 04:45:19.431034 140590807156480 api.py:567] Project: efficientnet-lite4/model/blocks_5/Identity:0 shape: (1, 28, 28, 56)\n",
      "I0317 04:45:19.439906 140590807156480 api.py:567] block_6 survival_prob: 0.96\n",
      "I0317 04:45:19.447812 140590807156480 api.py:567] Block input: efficientnet-lite4/model/blocks_5/Identity:0 shape: (1, 28, 28, 56)\n",
      "I0317 04:45:19.455622 140590807156480 api.py:567] Block input depth: 56 output depth: 56\n",
      "I0317 04:45:19.492807 140590807156480 api.py:567] Expand: efficientnet-lite4/model/blocks_6/Relu6:0 shape: (1, 28, 28, 336)\n",
      "I0317 04:45:19.531353 140590807156480 api.py:567] DWConv: efficientnet-lite4/model/blocks_6/Relu6_1:0 shape: (1, 28, 28, 336)\n",
      "I0317 04:45:19.570957 140590807156480 api.py:567] Project: efficientnet-lite4/model/blocks_6/Add:0 shape: (1, 28, 28, 56)\n",
      "I0317 04:45:19.579856 140590807156480 api.py:567] block_7 survival_prob: 0.9533333333333334\n",
      "I0317 04:45:19.587775 140590807156480 api.py:567] Block input: efficientnet-lite4/model/blocks_6/Add:0 shape: (1, 28, 28, 56)\n",
      "I0317 04:45:19.595458 140590807156480 api.py:567] Block input depth: 56 output depth: 56\n",
      "I0317 04:45:19.634931 140590807156480 api.py:567] Expand: efficientnet-lite4/model/blocks_7/Relu6:0 shape: (1, 28, 28, 336)\n",
      "I0317 04:45:19.674918 140590807156480 api.py:567] DWConv: efficientnet-lite4/model/blocks_7/Relu6_1:0 shape: (1, 28, 28, 336)\n",
      "I0317 04:45:19.715047 140590807156480 api.py:567] Project: efficientnet-lite4/model/blocks_7/Add:0 shape: (1, 28, 28, 56)\n",
      "I0317 04:45:19.724665 140590807156480 api.py:567] block_8 survival_prob: 0.9466666666666667\n",
      "I0317 04:45:19.732570 140590807156480 api.py:567] Block input: efficientnet-lite4/model/blocks_7/Add:0 shape: (1, 28, 28, 56)\n",
      "I0317 04:45:19.740266 140590807156480 api.py:567] Block input depth: 56 output depth: 56\n",
      "I0317 04:45:19.781676 140590807156480 api.py:567] Expand: efficientnet-lite4/model/blocks_8/Relu6:0 shape: (1, 28, 28, 336)\n",
      "I0317 04:45:19.823185 140590807156480 api.py:567] DWConv: efficientnet-lite4/model/blocks_8/Relu6_1:0 shape: (1, 28, 28, 336)\n",
      "I0317 04:45:19.864949 140590807156480 api.py:567] Project: efficientnet-lite4/model/blocks_8/Add:0 shape: (1, 28, 28, 56)\n",
      "I0317 04:45:19.874733 140590807156480 api.py:567] block_9 survival_prob: 0.9400000000000001\n",
      "I0317 04:45:19.882672 140590807156480 api.py:567] Block input: efficientnet-lite4/model/blocks_8/Add:0 shape: (1, 28, 28, 56)\n",
      "I0317 04:45:19.890336 140590807156480 api.py:567] Block input depth: 56 output depth: 112\n",
      "I0317 04:45:19.933387 140590807156480 api.py:567] Expand: efficientnet-lite4/model/blocks_9/Relu6:0 shape: (1, 28, 28, 336)\n",
      "I0317 04:45:19.977168 140590807156480 api.py:567] DWConv: efficientnet-lite4/model/blocks_9/Relu6_1:0 shape: (1, 14, 14, 336)\n",
      "I0317 04:45:20.022493 140590807156480 api.py:567] Project: efficientnet-lite4/model/blocks_9/Identity:0 shape: (1, 14, 14, 112)\n",
      "I0317 04:45:20.031920 140590807156480 api.py:567] block_10 survival_prob: 0.9333333333333333\n",
      "I0317 04:45:20.039810 140590807156480 api.py:567] Block input: efficientnet-lite4/model/blocks_9/Identity:0 shape: (1, 14, 14, 112)\n",
      "I0317 04:45:20.047452 140590807156480 api.py:567] Block input depth: 112 output depth: 112\n",
      "I0317 04:45:20.091966 140590807156480 api.py:567] Expand: efficientnet-lite4/model/blocks_10/Relu6:0 shape: (1, 14, 14, 672)\n",
      "I0317 04:45:20.137222 140590807156480 api.py:567] DWConv: efficientnet-lite4/model/blocks_10/Relu6_1:0 shape: (1, 14, 14, 672)\n",
      "I0317 04:45:20.183222 140590807156480 api.py:567] Project: efficientnet-lite4/model/blocks_10/Add:0 shape: (1, 14, 14, 112)\n",
      "I0317 04:45:20.192143 140590807156480 api.py:567] block_11 survival_prob: 0.9266666666666667\n",
      "I0317 04:45:20.200069 140590807156480 api.py:567] Block input: efficientnet-lite4/model/blocks_10/Add:0 shape: (1, 14, 14, 112)\n",
      "I0317 04:45:20.207746 140590807156480 api.py:567] Block input depth: 112 output depth: 112\n",
      "I0317 04:45:20.254011 140590807156480 api.py:567] Expand: efficientnet-lite4/model/blocks_11/Relu6:0 shape: (1, 14, 14, 672)\n",
      "I0317 04:45:20.303129 140590807156480 api.py:567] DWConv: efficientnet-lite4/model/blocks_11/Relu6_1:0 shape: (1, 14, 14, 672)\n",
      "I0317 04:45:20.351128 140590807156480 api.py:567] Project: efficientnet-lite4/model/blocks_11/Add:0 shape: (1, 14, 14, 112)\n",
      "I0317 04:45:20.360038 140590807156480 api.py:567] block_12 survival_prob: 0.92\n",
      "I0317 04:45:20.367931 140590807156480 api.py:567] Block input: efficientnet-lite4/model/blocks_11/Add:0 shape: (1, 14, 14, 112)\n",
      "I0317 04:45:20.375695 140590807156480 api.py:567] Block input depth: 112 output depth: 112\n",
      "I0317 04:45:20.423958 140590807156480 api.py:567] Expand: efficientnet-lite4/model/blocks_12/Relu6:0 shape: (1, 14, 14, 672)\n",
      "I0317 04:45:20.471994 140590807156480 api.py:567] DWConv: efficientnet-lite4/model/blocks_12/Relu6_1:0 shape: (1, 14, 14, 672)\n",
      "I0317 04:45:20.521208 140590807156480 api.py:567] Project: efficientnet-lite4/model/blocks_12/Add:0 shape: (1, 14, 14, 112)\n",
      "I0317 04:45:20.530177 140590807156480 api.py:567] block_13 survival_prob: 0.9133333333333333\n",
      "I0317 04:45:20.538881 140590807156480 api.py:567] Block input: efficientnet-lite4/model/blocks_12/Add:0 shape: (1, 14, 14, 112)\n",
      "I0317 04:45:20.546572 140590807156480 api.py:567] Block input depth: 112 output depth: 112\n",
      "I0317 04:45:20.596050 140590807156480 api.py:567] Expand: efficientnet-lite4/model/blocks_13/Relu6:0 shape: (1, 14, 14, 672)\n",
      "I0317 04:45:20.646432 140590807156480 api.py:567] DWConv: efficientnet-lite4/model/blocks_13/Relu6_1:0 shape: (1, 14, 14, 672)\n",
      "I0317 04:45:20.697596 140590807156480 api.py:567] Project: efficientnet-lite4/model/blocks_13/Add:0 shape: (1, 14, 14, 112)\n",
      "I0317 04:45:20.706486 140590807156480 api.py:567] block_14 survival_prob: 0.9066666666666667\n",
      "I0317 04:45:20.714402 140590807156480 api.py:567] Block input: efficientnet-lite4/model/blocks_13/Add:0 shape: (1, 14, 14, 112)\n",
      "I0317 04:45:20.722100 140590807156480 api.py:567] Block input depth: 112 output depth: 112\n",
      "I0317 04:45:20.773102 140590807156480 api.py:567] Expand: efficientnet-lite4/model/blocks_14/Relu6:0 shape: (1, 14, 14, 672)\n",
      "I0317 04:45:20.824693 140590807156480 api.py:567] DWConv: efficientnet-lite4/model/blocks_14/Relu6_1:0 shape: (1, 14, 14, 672)\n",
      "I0317 04:45:20.877361 140590807156480 api.py:567] Project: efficientnet-lite4/model/blocks_14/Add:0 shape: (1, 14, 14, 112)\n",
      "I0317 04:45:20.886309 140590807156480 api.py:567] block_15 survival_prob: 0.9\n",
      "I0317 04:45:20.895032 140590807156480 api.py:567] Block input: efficientnet-lite4/model/blocks_14/Add:0 shape: (1, 14, 14, 112)\n",
      "I0317 04:45:20.902743 140590807156480 api.py:567] Block input depth: 112 output depth: 160\n",
      "I0317 04:45:20.955559 140590807156480 api.py:567] Expand: efficientnet-lite4/model/blocks_15/Relu6:0 shape: (1, 14, 14, 672)\n",
      "I0317 04:45:21.008883 140590807156480 api.py:567] DWConv: efficientnet-lite4/model/blocks_15/Relu6_1:0 shape: (1, 14, 14, 672)\n",
      "I0317 04:45:21.062881 140590807156480 api.py:567] Project: efficientnet-lite4/model/blocks_15/Identity:0 shape: (1, 14, 14, 160)\n",
      "I0317 04:45:21.071828 140590807156480 api.py:567] block_16 survival_prob: 0.8933333333333333\n",
      "I0317 04:45:21.079703 140590807156480 api.py:567] Block input: efficientnet-lite4/model/blocks_15/Identity:0 shape: (1, 14, 14, 160)\n",
      "I0317 04:45:21.087451 140590807156480 api.py:567] Block input depth: 160 output depth: 160\n"
     ]
    },
    {
     "name": "stdout",
     "output_type": "stream",
     "text": [
      "I0317 04:45:21.141554 140590807156480 api.py:567] Expand: efficientnet-lite4/model/blocks_16/Relu6:0 shape: (1, 14, 14, 960)\n",
      "I0317 04:45:21.195437 140590807156480 api.py:567] DWConv: efficientnet-lite4/model/blocks_16/Relu6_1:0 shape: (1, 14, 14, 960)\n",
      "I0317 04:45:21.252286 140590807156480 api.py:567] Project: efficientnet-lite4/model/blocks_16/Add:0 shape: (1, 14, 14, 160)\n",
      "I0317 04:45:21.261178 140590807156480 api.py:567] block_17 survival_prob: 0.8866666666666667\n",
      "I0317 04:45:21.269101 140590807156480 api.py:567] Block input: efficientnet-lite4/model/blocks_16/Add:0 shape: (1, 14, 14, 160)\n",
      "I0317 04:45:21.276744 140590807156480 api.py:567] Block input depth: 160 output depth: 160\n",
      "I0317 04:45:21.332792 140590807156480 api.py:567] Expand: efficientnet-lite4/model/blocks_17/Relu6:0 shape: (1, 14, 14, 960)\n",
      "I0317 04:45:21.390112 140590807156480 api.py:567] DWConv: efficientnet-lite4/model/blocks_17/Relu6_1:0 shape: (1, 14, 14, 960)\n",
      "I0317 04:45:21.447642 140590807156480 api.py:567] Project: efficientnet-lite4/model/blocks_17/Add:0 shape: (1, 14, 14, 160)\n",
      "I0317 04:45:21.456686 140590807156480 api.py:567] block_18 survival_prob: 0.88\n",
      "I0317 04:45:21.464611 140590807156480 api.py:567] Block input: efficientnet-lite4/model/blocks_17/Add:0 shape: (1, 14, 14, 160)\n",
      "I0317 04:45:21.472282 140590807156480 api.py:567] Block input depth: 160 output depth: 160\n",
      "I0317 04:45:21.529984 140590807156480 api.py:567] Expand: efficientnet-lite4/model/blocks_18/Relu6:0 shape: (1, 14, 14, 960)\n",
      "I0317 04:45:21.588109 140590807156480 api.py:567] DWConv: efficientnet-lite4/model/blocks_18/Relu6_1:0 shape: (1, 14, 14, 960)\n",
      "I0317 04:45:21.647364 140590807156480 api.py:567] Project: efficientnet-lite4/model/blocks_18/Add:0 shape: (1, 14, 14, 160)\n",
      "I0317 04:45:21.656372 140590807156480 api.py:567] block_19 survival_prob: 0.8733333333333334\n",
      "I0317 04:45:21.665000 140590807156480 api.py:567] Block input: efficientnet-lite4/model/blocks_18/Add:0 shape: (1, 14, 14, 160)\n",
      "I0317 04:45:21.672696 140590807156480 api.py:567] Block input depth: 160 output depth: 160\n",
      "I0317 04:45:21.732334 140590807156480 api.py:567] Expand: efficientnet-lite4/model/blocks_19/Relu6:0 shape: (1, 14, 14, 960)\n",
      "I0317 04:45:21.792536 140590807156480 api.py:567] DWConv: efficientnet-lite4/model/blocks_19/Relu6_1:0 shape: (1, 14, 14, 960)\n",
      "I0317 04:45:21.854197 140590807156480 api.py:567] Project: efficientnet-lite4/model/blocks_19/Add:0 shape: (1, 14, 14, 160)\n",
      "I0317 04:45:21.864293 140590807156480 api.py:567] block_20 survival_prob: 0.8666666666666667\n",
      "I0317 04:45:21.872680 140590807156480 api.py:567] Block input: efficientnet-lite4/model/blocks_19/Add:0 shape: (1, 14, 14, 160)\n",
      "I0317 04:45:21.880745 140590807156480 api.py:567] Block input depth: 160 output depth: 160\n",
      "I0317 04:45:21.942413 140590807156480 api.py:567] Expand: efficientnet-lite4/model/blocks_20/Relu6:0 shape: (1, 14, 14, 960)\n",
      "I0317 04:45:22.003703 140590807156480 api.py:567] DWConv: efficientnet-lite4/model/blocks_20/Relu6_1:0 shape: (1, 14, 14, 960)\n",
      "I0317 04:45:22.066048 140590807156480 api.py:567] Project: efficientnet-lite4/model/blocks_20/Add:0 shape: (1, 14, 14, 160)\n",
      "I0317 04:45:22.075069 140590807156480 api.py:567] block_21 survival_prob: 0.86\n",
      "I0317 04:45:22.083034 140590807156480 api.py:567] Block input: efficientnet-lite4/model/blocks_20/Add:0 shape: (1, 14, 14, 160)\n",
      "I0317 04:45:22.090764 140590807156480 api.py:567] Block input depth: 160 output depth: 272\n",
      "I0317 04:45:22.153253 140590807156480 api.py:567] Expand: efficientnet-lite4/model/blocks_21/Relu6:0 shape: (1, 14, 14, 960)\n",
      "I0317 04:45:22.216972 140590807156480 api.py:567] DWConv: efficientnet-lite4/model/blocks_21/Relu6_1:0 shape: (1, 7, 7, 960)\n",
      "I0317 04:45:22.340183 140590807156480 api.py:567] Project: efficientnet-lite4/model/blocks_21/Identity:0 shape: (1, 7, 7, 272)\n",
      "I0317 04:45:22.349377 140590807156480 api.py:567] block_22 survival_prob: 0.8533333333333334\n",
      "I0317 04:45:22.357272 140590807156480 api.py:567] Block input: efficientnet-lite4/model/blocks_21/Identity:0 shape: (1, 7, 7, 272)\n",
      "I0317 04:45:22.365028 140590807156480 api.py:567] Block input depth: 272 output depth: 272\n",
      "I0317 04:45:22.432191 140590807156480 api.py:567] Expand: efficientnet-lite4/model/blocks_22/Relu6:0 shape: (1, 7, 7, 1632)\n",
      "I0317 04:45:22.499945 140590807156480 api.py:567] DWConv: efficientnet-lite4/model/blocks_22/Relu6_1:0 shape: (1, 7, 7, 1632)\n",
      "I0317 04:45:22.566263 140590807156480 api.py:567] Project: efficientnet-lite4/model/blocks_22/Add:0 shape: (1, 7, 7, 272)\n",
      "I0317 04:45:22.575270 140590807156480 api.py:567] block_23 survival_prob: 0.8466666666666667\n",
      "I0317 04:45:22.584039 140590807156480 api.py:567] Block input: efficientnet-lite4/model/blocks_22/Add:0 shape: (1, 7, 7, 272)\n",
      "I0317 04:45:22.591916 140590807156480 api.py:567] Block input depth: 272 output depth: 272\n",
      "I0317 04:45:22.660852 140590807156480 api.py:567] Expand: efficientnet-lite4/model/blocks_23/Relu6:0 shape: (1, 7, 7, 1632)\n",
      "I0317 04:45:22.730422 140590807156480 api.py:567] DWConv: efficientnet-lite4/model/blocks_23/Relu6_1:0 shape: (1, 7, 7, 1632)\n",
      "I0317 04:45:22.798201 140590807156480 api.py:567] Project: efficientnet-lite4/model/blocks_23/Add:0 shape: (1, 7, 7, 272)\n",
      "I0317 04:45:22.807118 140590807156480 api.py:567] block_24 survival_prob: 0.8400000000000001\n",
      "I0317 04:45:22.815037 140590807156480 api.py:567] Block input: efficientnet-lite4/model/blocks_23/Add:0 shape: (1, 7, 7, 272)\n",
      "I0317 04:45:22.822740 140590807156480 api.py:567] Block input depth: 272 output depth: 272\n",
      "I0317 04:45:22.893360 140590807156480 api.py:567] Expand: efficientnet-lite4/model/blocks_24/Relu6:0 shape: (1, 7, 7, 1632)\n",
      "I0317 04:45:22.964537 140590807156480 api.py:567] DWConv: efficientnet-lite4/model/blocks_24/Relu6_1:0 shape: (1, 7, 7, 1632)\n",
      "I0317 04:45:23.033960 140590807156480 api.py:567] Project: efficientnet-lite4/model/blocks_24/Add:0 shape: (1, 7, 7, 272)\n",
      "I0317 04:45:23.043041 140590807156480 api.py:567] block_25 survival_prob: 0.8333333333333334\n",
      "I0317 04:45:23.051020 140590807156480 api.py:567] Block input: efficientnet-lite4/model/blocks_24/Add:0 shape: (1, 7, 7, 272)\n",
      "I0317 04:45:23.058711 140590807156480 api.py:567] Block input depth: 272 output depth: 272\n",
      "I0317 04:45:23.130838 140590807156480 api.py:567] Expand: efficientnet-lite4/model/blocks_25/Relu6:0 shape: (1, 7, 7, 1632)\n",
      "I0317 04:45:23.203328 140590807156480 api.py:567] DWConv: efficientnet-lite4/model/blocks_25/Relu6_1:0 shape: (1, 7, 7, 1632)\n",
      "I0317 04:45:23.275532 140590807156480 api.py:567] Project: efficientnet-lite4/model/blocks_25/Add:0 shape: (1, 7, 7, 272)\n",
      "I0317 04:45:23.284543 140590807156480 api.py:567] block_26 survival_prob: 0.8266666666666667\n",
      "I0317 04:45:23.293209 140590807156480 api.py:567] Block input: efficientnet-lite4/model/blocks_25/Add:0 shape: (1, 7, 7, 272)\n",
      "I0317 04:45:23.300981 140590807156480 api.py:567] Block input depth: 272 output depth: 272\n",
      "I0317 04:45:23.374962 140590807156480 api.py:567] Expand: efficientnet-lite4/model/blocks_26/Relu6:0 shape: (1, 7, 7, 1632)\n",
      "I0317 04:45:23.449799 140590807156480 api.py:567] DWConv: efficientnet-lite4/model/blocks_26/Relu6_1:0 shape: (1, 7, 7, 1632)\n",
      "I0317 04:45:23.522344 140590807156480 api.py:567] Project: efficientnet-lite4/model/blocks_26/Add:0 shape: (1, 7, 7, 272)\n",
      "I0317 04:45:23.531246 140590807156480 api.py:567] block_27 survival_prob: 0.8200000000000001\n",
      "I0317 04:45:23.539234 140590807156480 api.py:567] Block input: efficientnet-lite4/model/blocks_26/Add:0 shape: (1, 7, 7, 272)\n",
      "I0317 04:45:23.547058 140590807156480 api.py:567] Block input depth: 272 output depth: 272\n",
      "I0317 04:45:23.621984 140590807156480 api.py:567] Expand: efficientnet-lite4/model/blocks_27/Relu6:0 shape: (1, 7, 7, 1632)\n",
      "I0317 04:45:23.697803 140590807156480 api.py:567] DWConv: efficientnet-lite4/model/blocks_27/Relu6_1:0 shape: (1, 7, 7, 1632)\n",
      "I0317 04:45:23.771025 140590807156480 api.py:567] Project: efficientnet-lite4/model/blocks_27/Add:0 shape: (1, 7, 7, 272)\n",
      "I0317 04:45:23.779946 140590807156480 api.py:567] block_28 survival_prob: 0.8133333333333334\n",
      "I0317 04:45:23.787839 140590807156480 api.py:567] Block input: efficientnet-lite4/model/blocks_27/Add:0 shape: (1, 7, 7, 272)\n",
      "I0317 04:45:23.795603 140590807156480 api.py:567] Block input depth: 272 output depth: 272\n"
     ]
    },
    {
     "name": "stdout",
     "output_type": "stream",
     "text": [
      "I0317 04:45:23.872047 140590807156480 api.py:567] Expand: efficientnet-lite4/model/blocks_28/Relu6:0 shape: (1, 7, 7, 1632)\n",
      "I0317 04:45:23.949152 140590807156480 api.py:567] DWConv: efficientnet-lite4/model/blocks_28/Relu6_1:0 shape: (1, 7, 7, 1632)\n",
      "I0317 04:45:24.024661 140590807156480 api.py:567] Project: efficientnet-lite4/model/blocks_28/Add:0 shape: (1, 7, 7, 272)\n",
      "I0317 04:45:24.033358 140590807156480 api.py:567] block_29 survival_prob: 0.8066666666666666\n",
      "I0317 04:45:24.041232 140590807156480 api.py:567] Block input: efficientnet-lite4/model/blocks_28/Add:0 shape: (1, 7, 7, 272)\n",
      "I0317 04:45:24.048917 140590807156480 api.py:567] Block input depth: 272 output depth: 448\n",
      "I0317 04:45:24.127136 140590807156480 api.py:567] Expand: efficientnet-lite4/model/blocks_29/Relu6:0 shape: (1, 7, 7, 1632)\n",
      "I0317 04:45:24.205864 140590807156480 api.py:567] DWConv: efficientnet-lite4/model/blocks_29/Relu6_1:0 shape: (1, 7, 7, 1632)\n",
      "I0317 04:45:24.282718 140590807156480 api.py:567] Project: efficientnet-lite4/model/blocks_29/Identity:0 shape: (1, 7, 7, 448)\n",
      "INFO:tensorflow:Restoring parameters from efficientnet-lite4/model.ckpt\n",
      "I0317 04:45:25.960167 140590807156480 saver.py:1284] Restoring parameters from efficientnet-lite4/model.ckpt\n",
      "INFO:tensorflow:SavedModel written to: saved_model/saved_model.pb\n",
      "I0317 04:45:27.376586 140590807156480 builder_impl.py:426] SavedModel written to: saved_model/saved_model.pb\n",
      "Saved model written to saved_model\n"
     ]
    }
   ],
   "source": [
    "!python export_model.py --model_name=efficientnet-lite4 --ckpt_dir=efficientnet-lite4 --output_saved_model_dir=saved_model --output_tflite=/tmp/t"
   ]
  },
  {
   "cell_type": "markdown",
   "metadata": {},
   "source": [
    "A look at the saved_model shows us the inputs and outputs of the model:"
   ]
  },
  {
   "cell_type": "code",
   "execution_count": 5,
   "metadata": {},
   "outputs": [
    {
     "name": "stdout",
     "output_type": "stream",
     "text": [
      "The given SavedModel SignatureDef contains the following input(s):\n",
      "  inputs['input'] tensor_info:\n",
      "      dtype: DT_FLOAT\n",
      "      shape: (1, 224, 224, 3)\n",
      "      name: images:0\n",
      "The given SavedModel SignatureDef contains the following output(s):\n",
      "  outputs['output'] tensor_info:\n",
      "      dtype: DT_FLOAT\n",
      "      shape: (1, 1000)\n",
      "      name: Softmax:0\n",
      "Method name is: tensorflow/serving/predict\n"
     ]
    }
   ],
   "source": [
    "!saved_model_cli show --dir saved_model --tag_set serve  --signature_def serving_default"
   ]
  },
  {
   "cell_type": "markdown",
   "metadata": {},
   "source": [
    "Install and run tf2onnx directly on the saved_model:"
   ]
  },
  {
   "cell_type": "code",
   "execution_count": null,
   "metadata": {},
   "outputs": [],
   "source": [
    "!pip install git+https://github.com/onnx/tensorflow-onnx\n",
    "!pip install onnxruntime"
   ]
  },
  {
   "cell_type": "code",
   "execution_count": 6,
   "metadata": {
    "scrolled": false
   },
   "outputs": [
    {
     "name": "stdout",
     "output_type": "stream",
     "text": [
      "2020-03-17 04:45:48,897 - INFO - Using tensorflow=2.1.0, onnx=1.6.0, tf2onnx=1.6.0/f48281\n",
      "2020-03-17 04:45:48,897 - INFO - Using opset <onnx, 11>\n",
      "2020-03-17 04:45:57,747 - INFO - Optimizing ONNX model\n",
      "2020-03-17 04:46:08,488 - INFO - After optimization: Const -150 (609->459), Identity -33 (33->0), Reshape -30 (30->0), Transpose -395 (396->1)\n",
      "2020-03-17 04:46:08,533 - INFO - \n",
      "2020-03-17 04:46:08,533 - INFO - Successfully converted TensorFlow model saved_model to ONNX\n",
      "2020-03-17 04:46:08,927 - INFO - ONNX model is saved at efficientnet-lite4.onnx\n"
     ]
    }
   ],
   "source": [
    "!python -m tf2onnx.convert --opset 11 --fold_const --saved-model saved_model --output $MODEL.onnx"
   ]
  },
  {
   "cell_type": "markdown",
   "metadata": {},
   "source": [
    "Now that we have the ONNX model we can write a quick demo using onnxruntime:"
   ]
  },
  {
   "cell_type": "code",
   "execution_count": 7,
   "metadata": {},
   "outputs": [
    {
     "name": "stderr",
     "output_type": "stream",
     "text": []
    },
    {
     "data": {
      "image/png": "[encoded data removed]",
      "text/plain": [
       "<Figure size 432x288 with 1 Axes>"
      ]
     },
     "metadata": {
      "needs_background": "light"
     },
     "output_type": "display_data"
    }
   ],
   "source": [
    "%matplotlib inline\n",
    "\n",
    "import numpy as np\n",
    "import math\n",
    "import matplotlib.pyplot as plt\n",
    "import onnxruntime as rt\n",
    "import cv2\n",
    "import json\n",
    "\n",
    "labels = json.load(open(\"labels_map.txt\", \"r\"))\n",
    "\n",
    "\n",
    "def img_stats(a, name={}):\n",
    "    return {\n",
    "        \"name\": name,\n",
    "        \"size\": a.shape,\n",
    "        \"mean\": \"{:.2f}\".format(a.mean()),\n",
    "        \"std\": \"{:.2f}\".format(a.std()),\n",
    "        \"max\": a.max(),\n",
    "        \"min\": a.min(),\n",
    "        \"median\": \"{:.2f}\".format(np.median(a)),\n",
    "    }\n",
    "\n",
    "\n",
    "def center_crop(img, out_height, out_width):\n",
    "    height, width, _ = img.shape\n",
    "    left = int((width - out_width) / 2)\n",
    "    right = int((width + out_width) / 2)\n",
    "    top = int((height - out_height) / 2)\n",
    "    bottom = int((height + out_height) / 2)\n",
    "    img = img[top:bottom, left:right]\n",
    "    return img\n",
    "\n",
    "\n",
    "def resize_with_aspectratio(img, out_height, out_width, scale=87.5, inter_pol=cv2.INTER_LINEAR):\n",
    "    height, width, _ = img.shape\n",
    "    new_height = int(100. * out_height / scale)\n",
    "    new_width = int(100. * out_width / scale)\n",
    "    if height > width:\n",
    "        w = new_width\n",
    "        h = int(new_height * height / width)\n",
    "    else:\n",
    "        h = new_height\n",
    "        w = int(new_width * width / height)\n",
    "    img = cv2.resize(img, (w, h), interpolation=inter_pol)\n",
    "    return img\n",
    "\n",
    "\n",
    "def pre_process_edgetpu(img, dims):\n",
    "    output_height, output_width, _ = dims\n",
    "    img = resize_with_aspectratio(img, output_height, output_width, inter_pol=cv2.INTER_LINEAR)\n",
    "    img = center_crop(img, output_height, output_width)\n",
    "    img = np.asarray(img, dtype='float32')\n",
    "    img -= [127.0, 127.0, 127.0]\n",
    "    img /= [128.0, 128.0, 128.0]\n",
    "    return img\n",
    "\n",
    "\n",
    "# read the image\n",
    "fname = \"panda.jpg\"\n",
    "img = cv2.imread(fname)\n",
    "img = cv2.cvtColor(img, cv2.COLOR_BGR2RGB)\n",
    "\n",
    "# pre-process the image like mobilenet and resize it to 300x300\n",
    "img = pre_process_edgetpu(img, (224, 224, 3))\n",
    "plt.axis('off')\n",
    "plt.imshow(img)\n",
    "plt.show()\n",
    "\n",
    "# create a batch of 1 (that batch size is buned into the saved_model)\n",
    "img_batch = np.expand_dims(img, axis=0)"
   ]
  },
  {
   "cell_type": "code",
   "execution_count": 8,
   "metadata": {},
   "outputs": [],
   "source": [
    "# load the model\n",
    "sess = rt.InferenceSession(MODEL + \".onnx\")"
   ]
  },
  {
   "cell_type": "code",
   "execution_count": 9,
   "metadata": {},
   "outputs": [
    {
     "name": "stdout",
     "output_type": "stream",
     "text": [
      "388 lesser panda, red panda, panda, bear cat, cat bear, Ailurus fulgens 0.99857914\n",
      "296 American black bear, black bear, Ursus americanus, Euarctos americanus 0.0004527254\n",
      "294 cheetah, chetah, Acinonyx jubatus 0.00033851538\n",
      "295 brown bear, bruin, Ursus arctos 0.00018831895\n",
      "387 African elephant, Loxodonta africana 3.0347202e-05\n"
     ]
    }
   ],
   "source": [
    "# run inference and print results\n",
    "results = sess.run([\"Softmax:0\"], {\"images:0\": img_batch})[0]\n",
    "result = reversed(results[0].argsort()[-5:])\n",
    "# result = np.argmax(results, axis=1)\n",
    "for r in result:\n",
    "    print(r, labels[str(r-1)], results[0][r])"
   ]
  }
 ],
 "metadata": {
  "kernelspec": {
   "display_name": "Python 3",
   "language": "python",
   "name": "python3"
  },
  "language_info": {
   "codemirror_mode": {
    "name": "ipython",
    "version": 3
   },
   "file_extension": ".py",
   "mimetype": "text/x-python",
   "name": "python",
   "nbconvert_exporter": "python",
   "pygments_lexer": "ipython3",
   "version": "3.7.3"
  }
 },
 "nbformat": 4,
 "nbformat_minor": 2
}
